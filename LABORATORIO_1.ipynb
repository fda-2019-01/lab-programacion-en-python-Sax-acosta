{
 "cells": [
  {
   "cell_type": "code",
   "execution_count": 1,
   "metadata": {
    "scrolled": false
   },
   "outputs": [
    {
     "data": {
      "text/plain": [
       "[['E', '1', '1999-02-28', 'b,g,f', 'jjj:3,bbb:0,ddd:9,ggg:8,hhh:2'],\n",
       " ['A', '2', '1999-10-28', 'a,f,c', 'ccc:2,ddd:0,aaa:3,hhh:9'],\n",
       " ['B', '5', '1998-05-02', 'f,e,a,c', 'ddd:2,ggg:5,ccc:6,jjj:1'],\n",
       " ['A', '3', '1999-08-28', 'a,b', 'hhh:9,iii:5,eee:7,bbb:1'],\n",
       " ['C', '6', '1999-12-01', 'f,g,d,a', 'iii:6,ddd:5,eee:4,jjj:3'],\n",
       " ['A', '7', '1998-07-28', 'c,d', 'bbb:2,hhh:0,ccc:4,fff:1,aaa:7'],\n",
       " ['A', '9', '1997-02-28', 'g,d,a', 'aaa:5,fff:8,ddd:2,iii:0,jjj:7,ccc:1'],\n",
       " ['B', '1', '1999-05-10', 'b,a', 'fff:3,hhh:1,ddd:2'],\n",
       " ['E', '2', '1997-04-12', 'd,e,a,f', 'eee:4,ccc:5,iii:9,fff:7,ggg:6,bbb:0'],\n",
       " ['B', '3', '1999-11-23', 'd,b,g,f', 'bbb:7,jjj:9,fff:5,iii:4,ggg:2,eee:3'],\n",
       " ['C', '7', '1998-01-17', 'd,c,f,b', 'hhh:6,eee:4,iii:0,fff:2,jjj:1'],\n",
       " ['C', '5', '1998-12-28', 'd,e,a,c', 'bbb:7,iii:6,ggg:9'],\n",
       " ['D', '3', '1999-10-15', 'g,e,f,b', 'bbb:9,aaa:3,ccc:6,fff:4,eee:2'],\n",
       " ['E', '8', '1998-11-01', 'c,f', 'aaa:8,ddd:5,jjj:1'],\n",
       " ['B', '9', '1999-08-12', 'd,b', 'ccc:0,jjj:6,fff:7,ddd:3,aaa:2'],\n",
       " ['D', '1', '1997-12-01', 'f,e', 'ccc:0,eee:6,bbb:9,ddd:3'],\n",
       " ['E', '3', '1997-07-28', 'e,b,f', 'bbb:6,iii:3,hhh:5,fff:4,ggg:9,ddd:2'],\n",
       " ['D', '5', '1998-08-12', 'g,a', 'hhh:4,jjj:5,ccc:9'],\n",
       " ['E', '8', '1999-08-24', 'e,c,f,a', 'ccc:1,iii:6,fff:9'],\n",
       " ['E', '9', '1998-01-23', 'e,a', 'bbb:9,aaa:3,fff:1'],\n",
       " ['E', '7', '1999-06-22', 'e,f', 'ddd:9,iii:2,aaa:4'],\n",
       " ['E', '3', '1999-04-24', 'c,b,g', 'ccc:5,fff:8,iii:7'],\n",
       " ['D', '5', '1999-06-25', 'c,f,a', 'eee:3,jjj:2,ddd:7'],\n",
       " ['A', '1', '1999-08-25', 'f,a,d', 'jjj:1,ggg:0,ccc:7,ddd:9,bbb:3'],\n",
       " ['E', '4', '1997-07-26', 'c,d', 'jjj:6,ccc:0,aaa:1,hhh:9,iii:7,ggg:8'],\n",
       " ['E', '6', '1997-09-24', 'e,d,c', 'fff:3,eee:6,iii:4,bbb:7,ddd:0,ccc:1'],\n",
       " ['A', '8', '1997-09-28', 'a,e,f', 'fff:0,ddd:5,ccc:4'],\n",
       " ['E', '5', '1999-06-22', 'c,a,g', 'ggg:6,hhh:3,ddd:9,ccc:0,jjj:7'],\n",
       " ['A', '6', '1999-07-29', 'f,e', 'hhh:6,jjj:0,eee:5,iii:7,ccc:3'],\n",
       " ['C', '0', '1999-08-22', 'f,c,a,g', 'eee:1,fff:4,aaa:2,ccc:7,ggg:0,ddd:6'],\n",
       " ['A', '1', '1998-04-26', 'b,f', 'ccc:6,aaa:9,eee:5,ddd:0,bbb:3'],\n",
       " ['D', '2', '1998-02-24', 'b,f', 'bbb:7,hhh:1,aaa:6,iii:4,fff:9,ddd:5'],\n",
       " ['E', '5', '1999-03-24', 'a,c', 'fff:3,ccc:1,ggg:2,eee:5'],\n",
       " ['B', '4', '1998-03-23', 'b,f,c', 'iii:7,ggg:3,ddd:0,jjj:8,hhh:5,ccc:1'],\n",
       " ['B', '6', '1999-04-21', 'f,a,e', 'hhh:6,ccc:3,jjj:0,bbb:8,ddd:7'],\n",
       " ['D', '7', '1999-02-29', 'a,f', 'aaa:0,fff:5,ddd:3'],\n",
       " ['B', '8', '1997-05-21', 'c,a', 'ddd:5,jjj:2,iii:7,ccc:0,bbb:4'],\n",
       " ['C', '9', '1997-07-22', 'c,a,e,f', 'eee:0,fff:2,hhh:6'],\n",
       " ['E', '1', '1999-09-28', 'e,d', 'fff:9,iii:2,eee:0'],\n",
       " ['E', '5', '1998-01-26', 'f,a,d', 'hhh:8,ggg:3,jjj:5']]"
      ]
     },
     "execution_count": 1,
     "metadata": {},
     "output_type": "execute_result"
    }
   ],
   "source": [
    "# LABORATORIO 1\n",
    "txt = open('data.csv', 'r').readlines()\n",
    "txt = [z.replace('\\t',' ') for z in txt]\n",
    "txt = [z.replace('\\n','') for z in txt]\n",
    "txt = [z.split(' ') for z in txt]\n",
    "txt"
   ]
  },
  {
   "cell_type": "code",
   "execution_count": 2,
   "metadata": {},
   "outputs": [
    {
     "name": "stdout",
     "output_type": "stream",
     "text": [
      "190\n"
     ]
    }
   ],
   "source": [
    "#PREGUNTA 1\n",
    "a = sum([int(z[1]) for z in txt])\n",
    "print(a)\n",
    "#sum([int(z[1]) for z in txt[0:]]) "
   ]
  },
  {
   "cell_type": "code",
   "execution_count": 3,
   "metadata": {},
   "outputs": [
    {
     "name": "stdout",
     "output_type": "stream",
     "text": [
      "A,8\n",
      "B,7\n",
      "C,5\n",
      "D,6\n",
      "E,14\n"
     ]
    }
   ],
   "source": [
    "#PREGUNTA 2\n",
    "x = sorted(set([z[0] for z in txt[0:]]))\n",
    "c = [i[0] for i in txt]\n",
    "for i in x:\n",
    "    print(str(i)+\",\"+ str(c.count(i)))\n",
    "\n",
    "#[(i, [z[0] for z in txt[0:]].count(i)) for i in x]"
   ]
  },
  {
   "cell_type": "code",
   "execution_count": 4,
   "metadata": {},
   "outputs": [
    {
     "name": "stdout",
     "output_type": "stream",
     "text": [
      "A,37\n",
      "B,36\n",
      "C,27\n",
      "D,23\n",
      "E,67\n"
     ]
    }
   ],
   "source": [
    "#PREGUNTA 3\n",
    "for i in x:\n",
    "    a = sum([int(z[1]) for z in txt[0:] if z[0] == i])\n",
    "    print(str(i)+\",\"+ str(a))\n",
    "#[(i, sum([int(z[1]) for z in txt[0:] if z[0] == i])) for i in x]"
   ]
  },
  {
   "cell_type": "code",
   "execution_count": null,
   "metadata": {},
   "outputs": [],
   "source": []
  },
  {
   "cell_type": "code",
   "execution_count": 5,
   "metadata": {},
   "outputs": [
    {
     "name": "stdout",
     "output_type": "stream",
     "text": [
      "01,3\n",
      "02,4\n",
      "03,2\n",
      "04,4\n",
      "05,3\n",
      "06,3\n",
      "07,5\n",
      "08,6\n",
      "09,3\n",
      "10,2\n",
      "11,2\n",
      "12,3\n"
     ]
    }
   ],
   "source": [
    "#PREGUNTA 4\n",
    "mes1 = [i[2].split('-')[1] for i in txt] #Lista de meses repetidos \n",
    "mes2 = sorted(set(mes1))                 #Lista de meses sin repetir y en orden\n",
    "for z in mes2:\n",
    "    print(str(z)+\",\"+ str(mes1.count(z)))\n",
    "#[(z, mes1.count(z)) for z in mes2]"
   ]
  },
  {
   "cell_type": "code",
   "execution_count": 6,
   "metadata": {},
   "outputs": [
    {
     "name": "stdout",
     "output_type": "stream",
     "text": [
      "A,9,1\n",
      "B,9,1\n",
      "C,9,0\n",
      "D,7,1\n",
      "E,9,1\n"
     ]
    }
   ],
   "source": [
    "#PREGUNTA 5\n",
    "# x fué nombrada en la pregunta 2\n",
    "for i in x:\n",
    "    a = max([int(z[1]) for z in txt if z[0] == i])\n",
    "    b = min([int(z[1]) for z in txt if z[0] == i])\n",
    "    print(str(i)+\",\"+ str(a)+\",\"+ str(b))\n",
    "#[(i, max([int(z[1]) for z in txt if z[0] == i]), min([int(z[1]) for z in txt if z[0] == i])) for i in x]"
   ]
  },
  {
   "cell_type": "code",
   "execution_count": 7,
   "metadata": {},
   "outputs": [
    {
     "data": {
      "text/plain": [
       "['jjj:3',\n",
       " 'bbb:0',\n",
       " 'ddd:9',\n",
       " 'ggg:8',\n",
       " 'hhh:2',\n",
       " 'ccc:2',\n",
       " 'ddd:0',\n",
       " 'aaa:3',\n",
       " 'hhh:9',\n",
       " 'ddd:2',\n",
       " 'ggg:5',\n",
       " 'ccc:6',\n",
       " 'jjj:1',\n",
       " 'hhh:9',\n",
       " 'iii:5',\n",
       " 'eee:7',\n",
       " 'bbb:1',\n",
       " 'iii:6',\n",
       " 'ddd:5',\n",
       " 'eee:4',\n",
       " 'jjj:3',\n",
       " 'bbb:2',\n",
       " 'hhh:0',\n",
       " 'ccc:4',\n",
       " 'fff:1',\n",
       " 'aaa:7',\n",
       " 'aaa:5',\n",
       " 'fff:8',\n",
       " 'ddd:2',\n",
       " 'iii:0',\n",
       " 'jjj:7',\n",
       " 'ccc:1',\n",
       " 'fff:3',\n",
       " 'hhh:1',\n",
       " 'ddd:2',\n",
       " 'eee:4',\n",
       " 'ccc:5',\n",
       " 'iii:9',\n",
       " 'fff:7',\n",
       " 'ggg:6',\n",
       " 'bbb:0',\n",
       " 'bbb:7',\n",
       " 'jjj:9',\n",
       " 'fff:5',\n",
       " 'iii:4',\n",
       " 'ggg:2',\n",
       " 'eee:3',\n",
       " 'hhh:6',\n",
       " 'eee:4',\n",
       " 'iii:0',\n",
       " 'fff:2',\n",
       " 'jjj:1',\n",
       " 'bbb:7',\n",
       " 'iii:6',\n",
       " 'ggg:9',\n",
       " 'bbb:9',\n",
       " 'aaa:3',\n",
       " 'ccc:6',\n",
       " 'fff:4',\n",
       " 'eee:2',\n",
       " 'aaa:8',\n",
       " 'ddd:5',\n",
       " 'jjj:1',\n",
       " 'ccc:0',\n",
       " 'jjj:6',\n",
       " 'fff:7',\n",
       " 'ddd:3',\n",
       " 'aaa:2',\n",
       " 'ccc:0',\n",
       " 'eee:6',\n",
       " 'bbb:9',\n",
       " 'ddd:3',\n",
       " 'bbb:6',\n",
       " 'iii:3',\n",
       " 'hhh:5',\n",
       " 'fff:4',\n",
       " 'ggg:9',\n",
       " 'ddd:2',\n",
       " 'hhh:4',\n",
       " 'jjj:5',\n",
       " 'ccc:9',\n",
       " 'ccc:1',\n",
       " 'iii:6',\n",
       " 'fff:9',\n",
       " 'bbb:9',\n",
       " 'aaa:3',\n",
       " 'fff:1',\n",
       " 'ddd:9',\n",
       " 'iii:2',\n",
       " 'aaa:4',\n",
       " 'ccc:5',\n",
       " 'fff:8',\n",
       " 'iii:7',\n",
       " 'eee:3',\n",
       " 'jjj:2',\n",
       " 'ddd:7',\n",
       " 'jjj:1',\n",
       " 'ggg:0',\n",
       " 'ccc:7',\n",
       " 'ddd:9',\n",
       " 'bbb:3',\n",
       " 'jjj:6',\n",
       " 'ccc:0',\n",
       " 'aaa:1',\n",
       " 'hhh:9',\n",
       " 'iii:7',\n",
       " 'ggg:8',\n",
       " 'fff:3',\n",
       " 'eee:6',\n",
       " 'iii:4',\n",
       " 'bbb:7',\n",
       " 'ddd:0',\n",
       " 'ccc:1',\n",
       " 'fff:0',\n",
       " 'ddd:5',\n",
       " 'ccc:4',\n",
       " 'ggg:6',\n",
       " 'hhh:3',\n",
       " 'ddd:9',\n",
       " 'ccc:0',\n",
       " 'jjj:7',\n",
       " 'hhh:6',\n",
       " 'jjj:0',\n",
       " 'eee:5',\n",
       " 'iii:7',\n",
       " 'ccc:3',\n",
       " 'eee:1',\n",
       " 'fff:4',\n",
       " 'aaa:2',\n",
       " 'ccc:7',\n",
       " 'ggg:0',\n",
       " 'ddd:6',\n",
       " 'ccc:6',\n",
       " 'aaa:9',\n",
       " 'eee:5',\n",
       " 'ddd:0',\n",
       " 'bbb:3',\n",
       " 'bbb:7',\n",
       " 'hhh:1',\n",
       " 'aaa:6',\n",
       " 'iii:4',\n",
       " 'fff:9',\n",
       " 'ddd:5',\n",
       " 'fff:3',\n",
       " 'ccc:1',\n",
       " 'ggg:2',\n",
       " 'eee:5',\n",
       " 'iii:7',\n",
       " 'ggg:3',\n",
       " 'ddd:0',\n",
       " 'jjj:8',\n",
       " 'hhh:5',\n",
       " 'ccc:1',\n",
       " 'hhh:6',\n",
       " 'ccc:3',\n",
       " 'jjj:0',\n",
       " 'bbb:8',\n",
       " 'ddd:7',\n",
       " 'aaa:0',\n",
       " 'fff:5',\n",
       " 'ddd:3',\n",
       " 'ddd:5',\n",
       " 'jjj:2',\n",
       " 'iii:7',\n",
       " 'ccc:0',\n",
       " 'bbb:4',\n",
       " 'eee:0',\n",
       " 'fff:2',\n",
       " 'hhh:6',\n",
       " 'fff:9',\n",
       " 'iii:2',\n",
       " 'eee:0',\n",
       " 'hhh:8',\n",
       " 'ggg:3',\n",
       " 'jjj:5']"
      ]
     },
     "execution_count": 7,
     "metadata": {},
     "output_type": "execute_result"
    }
   ],
   "source": [
    "#PREGUNTA 6\n",
    "a = [i[4].split(',') for i in txt]\n",
    "a = sum(a, [])\n",
    "a"
   ]
  },
  {
   "cell_type": "code",
   "execution_count": 8,
   "metadata": {},
   "outputs": [
    {
     "name": "stdout",
     "output_type": "stream",
     "text": [
      "('0', ['C'])\n",
      "('1', ['E', 'B', 'D', 'A', 'A', 'E'])\n",
      "('2', ['A', 'E', 'D'])\n",
      "('3', ['A', 'B', 'D', 'E', 'E'])\n",
      "('4', ['E', 'B'])\n",
      "('5', ['B', 'C', 'D', 'D', 'E', 'E', 'E'])\n",
      "('6', ['C', 'E', 'A', 'B'])\n",
      "('7', ['A', 'C', 'E', 'D'])\n",
      "('8', ['E', 'E', 'A', 'B'])\n",
      "('9', ['A', 'B', 'E', 'C'])\n"
     ]
    }
   ],
   "source": [
    "#PREGUNTA 7\n",
    "y = sorted(set([z[1] for z in txt])) #Numeros del 0 al 9\n",
    "for i in y:\n",
    "    a = [m[0] for m in txt if m[1] == i]\n",
    "    print((i, a))\n",
    "#[(i, [m[0] for m in txt if m[1] == i]) for i in y]"
   ]
  },
  {
   "cell_type": "code",
   "execution_count": 9,
   "metadata": {},
   "outputs": [
    {
     "name": "stdout",
     "output_type": "stream",
     "text": [
      "('0', ['C'])\n",
      "('1', ['A', 'A', 'B', 'D', 'E', 'E'])\n",
      "('2', ['A', 'D', 'E'])\n",
      "('3', ['A', 'B', 'D', 'E', 'E'])\n",
      "('4', ['B', 'E'])\n",
      "('5', ['B', 'C', 'D', 'D', 'E', 'E', 'E'])\n",
      "('6', ['A', 'B', 'C', 'E'])\n",
      "('7', ['A', 'C', 'D', 'E'])\n",
      "('8', ['A', 'B', 'E', 'E'])\n",
      "('9', ['A', 'B', 'C', 'E'])\n"
     ]
    }
   ],
   "source": [
    "#PREGUNTA 8\n",
    "y = sorted(set([z[1] for z in txt]))\n",
    "for i in y:\n",
    "    a = sorted([m[0] for m in txt if m[1] == i])\n",
    "    print((i, a))\n",
    "#[(i, sorted([m[0] for m in txt if m[1] == i])) for i in y]"
   ]
  },
  {
   "cell_type": "code",
   "execution_count": 10,
   "metadata": {},
   "outputs": [
    {
     "name": "stdout",
     "output_type": "stream",
     "text": [
      "('0', ['C'])\n",
      "('1', ['A', 'B', 'D', 'E'])\n",
      "('2', ['A', 'D', 'E'])\n",
      "('3', ['A', 'B', 'D', 'E'])\n",
      "('4', ['B', 'E'])\n",
      "('5', ['B', 'C', 'D', 'E'])\n",
      "('6', ['A', 'B', 'C', 'E'])\n",
      "('7', ['A', 'C', 'D', 'E'])\n",
      "('8', ['A', 'B', 'E'])\n",
      "('9', ['A', 'B', 'C', 'E'])\n"
     ]
    }
   ],
   "source": [
    "#PREGUNTA 9\n",
    "#y se nombró en la pregunta 7\n",
    "for i in y:\n",
    "    a = sorted(set([m[0] for m in txt if m[1] == i]))\n",
    "    print((i, a))\n",
    "#[(i, sorted(set([m[0] for m in txt if m[1] == i]))) for i in y]"
   ]
  },
  {
   "cell_type": "code",
   "execution_count": 48,
   "metadata": {},
   "outputs": [
    {
     "data": {
      "text/plain": [
       "['aaa', 'bbb', 'ccc', 'ddd', 'eee', 'fff', 'ggg', 'hhh', 'iii', 'jjj']"
      ]
     },
     "execution_count": 48,
     "metadata": {},
     "output_type": "execute_result"
    }
   ],
   "source": [
    "#PREGUNTA 10\n",
    "dic = [z[4].split(',') for z in txt]\n",
    "dic = [[j[:3] for j in i] for i in dic]\n",
    "dic = sum(dic, [])                       #Me devulve una sola lista, COMO PUTAS, NO SÉ\n",
    "dic_or = sorted(set(dic))                #Dic ordenado sin repetir\n",
    "for i in dic_or:\n",
    "    a = [z for z in dic if z == i].count(i)\n",
    "#    print(str(i)+\",\"+ str(a))\n",
    "#[[i, [z for z in dic if z == i].count(i)] for i in dic_or]\n",
    "#FALTA EL FORMATO CSV\n",
    "#dic_or\n",
    "dic_or"
   ]
  },
  {
   "cell_type": "code",
   "execution_count": 12,
   "metadata": {},
   "outputs": [
    {
     "name": "stdout",
     "output_type": "stream",
     "text": [
      "E,3,5\n",
      "A,3,4\n",
      "B,4,4\n",
      "A,2,4\n",
      "C,4,4\n",
      "A,2,5\n",
      "A,3,6\n",
      "B,2,3\n",
      "E,4,6\n",
      "B,4,6\n",
      "C,4,5\n",
      "C,4,3\n",
      "D,4,5\n",
      "E,2,3\n",
      "B,2,5\n",
      "D,2,4\n",
      "E,3,6\n",
      "D,2,3\n",
      "E,4,3\n",
      "E,2,3\n",
      "E,2,3\n",
      "E,3,3\n",
      "D,3,3\n",
      "A,3,5\n",
      "E,2,6\n",
      "E,3,6\n",
      "A,3,3\n",
      "E,3,5\n",
      "A,2,5\n",
      "C,4,6\n",
      "A,2,5\n",
      "D,2,6\n",
      "E,2,4\n",
      "B,3,6\n",
      "B,3,5\n",
      "D,2,3\n",
      "B,2,5\n",
      "C,4,3\n",
      "E,2,3\n",
      "E,3,3\n"
     ]
    }
   ],
   "source": [
    "#PREGUNTA 11\n",
    "c1 = [z[0] for z in txt] #Columna 1\n",
    "c2 = [z[3].split(',') for z in txt] #Columna 4\n",
    "c3 = [z[4].split(',') for z in txt] #Columna 5\n",
    "for z in range(len(c1)):\n",
    "    print(str(c1[z])+\",\"+ str(len(c2[z]))+\",\"+ str(len(c3[z])))\n",
    "#[[c1[z],len(c2[z]), len(c3[z])] for z in range(len(c1))]"
   ]
  },
  {
   "cell_type": "code",
   "execution_count": 140,
   "metadata": {},
   "outputs": [
    {
     "name": "stdout",
     "output_type": "stream",
     "text": [
      "a,114\n",
      "b,40\n",
      "c,91\n",
      "d,65\n",
      "e,79\n",
      "f,110\n",
      "g,35\n"
     ]
    }
   ],
   "source": [
    "#PREGUNTA 12\n",
    "let = [line[3].split(',') for line in txt]\n",
    "let_or = sorted(set(sum(let,[])))\n",
    "ho = [line[1:4] for line in txt]\n",
    "a = []\n",
    "for line in ho:\n",
    "    a.append([line[0]] + line[2].split(','))\n",
    "\n",
    "resp=[]\n",
    "for letra in let_or:\n",
    "    inic = [letra]\n",
    "    count = 0\n",
    "    for line in a:\n",
    "        if letra in line:\n",
    "            count = count + int(line[0])\n",
    "    inic = inic + [count]\n",
    "    resp = resp + [inic]\n",
    "for line in resp:\n",
    "    print(str(line[0])+\",\"+str(line[1]))"
   ]
  },
  {
   "cell_type": "code",
   "execution_count": 142,
   "metadata": {},
   "outputs": [
    {
     "data": {
      "text/plain": [
       "[['1', '1999-02-28', 'b,g,f'],\n",
       " ['2', '1999-10-28', 'a,f,c'],\n",
       " ['5', '1998-05-02', 'f,e,a,c'],\n",
       " ['3', '1999-08-28', 'a,b'],\n",
       " ['6', '1999-12-01', 'f,g,d,a'],\n",
       " ['7', '1998-07-28', 'c,d'],\n",
       " ['9', '1997-02-28', 'g,d,a'],\n",
       " ['1', '1999-05-10', 'b,a'],\n",
       " ['2', '1997-04-12', 'd,e,a,f'],\n",
       " ['3', '1999-11-23', 'd,b,g,f'],\n",
       " ['7', '1998-01-17', 'd,c,f,b'],\n",
       " ['5', '1998-12-28', 'd,e,a,c'],\n",
       " ['3', '1999-10-15', 'g,e,f,b'],\n",
       " ['8', '1998-11-01', 'c,f'],\n",
       " ['9', '1999-08-12', 'd,b'],\n",
       " ['1', '1997-12-01', 'f,e'],\n",
       " ['3', '1997-07-28', 'e,b,f'],\n",
       " ['5', '1998-08-12', 'g,a'],\n",
       " ['8', '1999-08-24', 'e,c,f,a'],\n",
       " ['9', '1998-01-23', 'e,a'],\n",
       " ['7', '1999-06-22', 'e,f'],\n",
       " ['3', '1999-04-24', 'c,b,g'],\n",
       " ['5', '1999-06-25', 'c,f,a'],\n",
       " ['1', '1999-08-25', 'f,a,d'],\n",
       " ['4', '1997-07-26', 'c,d'],\n",
       " ['6', '1997-09-24', 'e,d,c'],\n",
       " ['8', '1997-09-28', 'a,e,f'],\n",
       " ['5', '1999-06-22', 'c,a,g'],\n",
       " ['6', '1999-07-29', 'f,e'],\n",
       " ['0', '1999-08-22', 'f,c,a,g'],\n",
       " ['1', '1998-04-26', 'b,f'],\n",
       " ['2', '1998-02-24', 'b,f'],\n",
       " ['5', '1999-03-24', 'a,c'],\n",
       " ['4', '1998-03-23', 'b,f,c'],\n",
       " ['6', '1999-04-21', 'f,a,e'],\n",
       " ['7', '1999-02-29', 'a,f'],\n",
       " ['8', '1997-05-21', 'c,a'],\n",
       " ['9', '1997-07-22', 'c,a,e,f'],\n",
       " ['1', '1999-09-28', 'e,d'],\n",
       " ['5', '1998-01-26', 'f,a,d']]"
      ]
     },
     "execution_count": 142,
     "metadata": {},
     "output_type": "execute_result"
    }
   ],
   "source": [
    "ho"
   ]
  },
  {
   "cell_type": "code",
   "execution_count": 141,
   "metadata": {},
   "outputs": [
    {
     "data": {
      "text/plain": [
       "[['b', 'g', 'f'],\n",
       " ['a', 'f', 'c'],\n",
       " ['f', 'e', 'a', 'c'],\n",
       " ['a', 'b'],\n",
       " ['f', 'g', 'd', 'a'],\n",
       " ['c', 'd'],\n",
       " ['g', 'd', 'a'],\n",
       " ['b', 'a'],\n",
       " ['d', 'e', 'a', 'f'],\n",
       " ['d', 'b', 'g', 'f'],\n",
       " ['d', 'c', 'f', 'b'],\n",
       " ['d', 'e', 'a', 'c'],\n",
       " ['g', 'e', 'f', 'b'],\n",
       " ['c', 'f'],\n",
       " ['d', 'b'],\n",
       " ['f', 'e'],\n",
       " ['e', 'b', 'f'],\n",
       " ['g', 'a'],\n",
       " ['e', 'c', 'f', 'a'],\n",
       " ['e', 'a'],\n",
       " ['e', 'f'],\n",
       " ['c', 'b', 'g'],\n",
       " ['c', 'f', 'a'],\n",
       " ['f', 'a', 'd'],\n",
       " ['c', 'd'],\n",
       " ['e', 'd', 'c'],\n",
       " ['a', 'e', 'f'],\n",
       " ['c', 'a', 'g'],\n",
       " ['f', 'e'],\n",
       " ['f', 'c', 'a', 'g'],\n",
       " ['b', 'f'],\n",
       " ['b', 'f'],\n",
       " ['a', 'c'],\n",
       " ['b', 'f', 'c'],\n",
       " ['f', 'a', 'e'],\n",
       " ['a', 'f'],\n",
       " ['c', 'a'],\n",
       " ['c', 'a', 'e', 'f'],\n",
       " ['e', 'd'],\n",
       " ['f', 'a', 'd']]"
      ]
     },
     "execution_count": 141,
     "metadata": {},
     "output_type": "execute_result"
    }
   ],
   "source": [
    "let"
   ]
  },
  {
   "cell_type": "code",
   "execution_count": 98,
   "metadata": {},
   "outputs": [
    {
     "data": {
      "text/plain": [
       "[['1'],\n",
       " ['2'],\n",
       " ['5'],\n",
       " ['3'],\n",
       " ['6'],\n",
       " ['7'],\n",
       " ['9'],\n",
       " ['1'],\n",
       " ['2'],\n",
       " ['3'],\n",
       " ['7'],\n",
       " ['5'],\n",
       " ['3'],\n",
       " ['8'],\n",
       " ['9'],\n",
       " ['1'],\n",
       " ['3'],\n",
       " ['5'],\n",
       " ['8'],\n",
       " ['9'],\n",
       " ['7'],\n",
       " ['3'],\n",
       " ['5'],\n",
       " ['1'],\n",
       " ['4'],\n",
       " ['6'],\n",
       " ['8'],\n",
       " ['5'],\n",
       " ['6'],\n",
       " ['0'],\n",
       " ['1'],\n",
       " ['2'],\n",
       " ['5'],\n",
       " ['4'],\n",
       " ['6'],\n",
       " ['7'],\n",
       " ['8'],\n",
       " ['9'],\n",
       " ['1'],\n",
       " ['5'],\n",
       " ['b', 'g', 'f'],\n",
       " ['a', 'f', 'c'],\n",
       " ['f', 'e', 'a', 'c'],\n",
       " ['a', 'b'],\n",
       " ['f', 'g', 'd', 'a'],\n",
       " ['c', 'd'],\n",
       " ['g', 'd', 'a'],\n",
       " ['b', 'a'],\n",
       " ['d', 'e', 'a', 'f'],\n",
       " ['d', 'b', 'g', 'f'],\n",
       " ['d', 'c', 'f', 'b'],\n",
       " ['d', 'e', 'a', 'c'],\n",
       " ['g', 'e', 'f', 'b'],\n",
       " ['c', 'f'],\n",
       " ['d', 'b'],\n",
       " ['f', 'e'],\n",
       " ['e', 'b', 'f'],\n",
       " ['g', 'a'],\n",
       " ['e', 'c', 'f', 'a'],\n",
       " ['e', 'a'],\n",
       " ['e', 'f'],\n",
       " ['c', 'b', 'g'],\n",
       " ['c', 'f', 'a'],\n",
       " ['f', 'a', 'd'],\n",
       " ['c', 'd'],\n",
       " ['e', 'd', 'c'],\n",
       " ['a', 'e', 'f'],\n",
       " ['c', 'a', 'g'],\n",
       " ['f', 'e'],\n",
       " ['f', 'c', 'a', 'g'],\n",
       " ['b', 'f'],\n",
       " ['b', 'f'],\n",
       " ['a', 'c'],\n",
       " ['b', 'f', 'c'],\n",
       " ['f', 'a', 'e'],\n",
       " ['a', 'f'],\n",
       " ['c', 'a'],\n",
       " ['c', 'a', 'e', 'f'],\n",
       " ['e', 'd'],\n",
       " ['f', 'a', 'd']]"
      ]
     },
     "execution_count": 98,
     "metadata": {},
     "output_type": "execute_result"
    }
   ],
   "source": []
  },
  {
   "cell_type": "code",
   "execution_count": null,
   "metadata": {},
   "outputs": [],
   "source": [
    "#PREGUNTA 13\n",
    "p13 = [i[4].split(',') for i in txt]\n",
    "p13 = [[z[4] for z in j]for j in p13]\n",
    "p13 = [[int(j) for j in i]for i in p13]\n",
    "letras = [z[0] for z in txt]\n",
    "for i in range(len(letras)):\n",
    "    print(str(letras[i])+\",\"+ str(sum(p13[i])))\n",
    "#[[letras[i], sum(p13[i])] for i in range(len(letras))]"
   ]
  },
  {
   "cell_type": "code",
   "execution_count": null,
   "metadata": {},
   "outputs": [],
   "source": []
  },
  {
   "cell_type": "code",
   "execution_count": null,
   "metadata": {},
   "outputs": [],
   "source": []
  },
  {
   "cell_type": "code",
   "execution_count": null,
   "metadata": {},
   "outputs": [],
   "source": []
  }
 ],
 "metadata": {
  "kernelspec": {
   "display_name": "Python 3",
   "language": "python",
   "name": "python3"
  },
  "language_info": {
   "codemirror_mode": {
    "name": "ipython",
    "version": 3
   },
   "file_extension": ".py",
   "mimetype": "text/x-python",
   "name": "python",
   "nbconvert_exporter": "python",
   "pygments_lexer": "ipython3",
   "version": "3.7.3"
  }
 },
 "nbformat": 4,
 "nbformat_minor": 2
}
